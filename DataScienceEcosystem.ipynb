{
 "cells": [
  {
   "cell_type": "markdown",
   "id": "344876ba-c838-4b57-a6ce-654878bb152d",
   "metadata": {},
   "source": [
    "# Data Science Tools and Ecosystem"
   ]
  },
  {
   "cell_type": "markdown",
   "id": "e13a092c-e423-4e9c-846b-5530fb3721c7",
   "metadata": {},
   "source": [
    "In this notebook, Data Science Tools and Ecosystem are summarized and some exercises performed."
   ]
  },
  {
   "cell_type": "markdown",
   "id": "4dbadec8-a3f9-47a9-ad91-e4c1e1766d85",
   "metadata": {},
   "source": [
    "Some of the popular languages that Data Scientists use are:\n",
    "1. Python\n",
    "2. R\n",
    "3. Julia\n",
    "4. SQL\n",
    "5. Java\n",
    "6. JavaScript"
   ]
  },
  {
   "cell_type": "markdown",
   "id": "47c31bc1-bb80-4dc1-9771-7d469b8dd402",
   "metadata": {},
   "source": [
    "Some of the commonly used libraries used by Data Scientists include:\n",
    "1. Matplotlib\n",
    "2. NumPy\n",
    "3. Pandas\n",
    "4. Scikit-learn\n",
    "5. Seaborn\n",
    "6. Tensor Flow"
   ]
  },
  {
   "cell_type": "markdown",
   "id": "0c9f46e4-0f1c-4bfb-bcb5-85912d0b9154",
   "metadata": {},
   "source": [
    "|Data Science Tools|\n",
    "|------------------|\n",
    "|JupyterLab|\n",
    "|RStudio|\n",
    "|Google Colab|"
   ]
  },
  {
   "cell_type": "markdown",
   "id": "1d9adc44-12f5-4db5-b42b-e088e1dcc542",
   "metadata": {},
   "source": [
    "### Below are a few examples of evaluating arithmetic expressions in Python"
   ]
  },
  {
   "cell_type": "code",
   "execution_count": 3,
   "id": "c3c67732-8986-419a-94ba-e205afb223c4",
   "metadata": {},
   "outputs": [
    {
     "name": "stdout",
     "output_type": "stream",
     "text": [
      "17\n"
     ]
    }
   ],
   "source": [
    "#This a simple arithmetic expression to multiply then add integers\n",
    "x=3\n",
    "y=4\n",
    "z=5\n",
    "w=(x*y)+z\n",
    "print(w)"
   ]
  },
  {
   "cell_type": "code",
   "execution_count": 5,
   "id": "46924b51-1fcb-4967-8708-d29f6a7036de",
   "metadata": {},
   "outputs": [
    {
     "name": "stdout",
     "output_type": "stream",
     "text": [
      "3.3333333333333335\n"
     ]
    }
   ],
   "source": [
    "#This will convert 200 minutes to hours by diving by 60\n",
    "m=200\n",
    "h=m/60\n",
    "print(h)\n"
   ]
  },
  {
   "cell_type": "markdown",
   "id": "f683e933-ab4a-42ec-a714-1ed0f5b63106",
   "metadata": {},
   "source": [
    "**Objectives**\n",
    "* List some popular languages in data science\n",
    "* Identify some of the commonly used libraries in data science\n",
    "* Demonstrate skills with Markdown\n",
    "* Demonstrate some basic coding in arithmetic."
   ]
  },
  {
   "cell_type": "markdown",
   "id": "8fff3529-c4b1-49ac-818d-78305aab236d",
   "metadata": {},
   "source": [
    "## Author\n",
    "Dennis Alexander"
   ]
  }
 ],
 "metadata": {
  "kernelspec": {
   "display_name": "Python 3 (ipykernel)",
   "language": "python",
   "name": "python3"
  },
  "language_info": {
   "codemirror_mode": {
    "name": "ipython",
    "version": 3
   },
   "file_extension": ".py",
   "mimetype": "text/x-python",
   "name": "python",
   "nbconvert_exporter": "python",
   "pygments_lexer": "ipython3",
   "version": "3.12.7"
  }
 },
 "nbformat": 4,
 "nbformat_minor": 5
}
